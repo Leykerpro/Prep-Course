{
  "cells": [
    {
      "cell_type": "markdown",
      "metadata": {
        "id": "view-in-github",
        "colab_type": "text"
      },
      "source": [
        "<a href=\"https://colab.research.google.com/github/Leykerpro/Prep-Course/blob/main/Copia_de_Project_001_NBA_API.ipynb\" target=\"_parent\"><img src=\"https://colab.research.google.com/assets/colab-badge.svg\" alt=\"Open In Colab\"/></a>"
      ]
    },
    {
      "cell_type": "markdown",
      "id": "ae010f33-c6b5-475d-acd5-d37df011a5bd",
      "metadata": {
        "tags": [],
        "id": "ae010f33-c6b5-475d-acd5-d37df011a5bd"
      },
      "source": [
        "# AnyoneAI - Project I\n",
        "\n",
        "# An analysis of NBA players in the 2021/2022 season"
      ]
    },
    {
      "cell_type": "markdown",
      "id": "feb5643a-e69d-45d5-8143-67e7cac8db62",
      "metadata": {
        "id": "feb5643a-e69d-45d5-8143-67e7cac8db62"
      },
      "source": [
        "Hi! this is the first of several projects we're going to be working on during this course. \n",
        "You will be expected to finish this on your own, but you can use the available channels on Discord to ask questions and help others. Please read the entire notebook before starting, this will give you a better idea of what you need to accomplish.\n",
        "\n",
        "This project will rely heavily in the use of API as data sources. Contrary to most machine learning challenges and competitions, working in the industry usually requires the ML Developer to work with multiple teams and use heterogeneous sources of information to get the necessary data to solve a particular problem. Access to data is often provided through application programming interfaces (APIs), whether internal or external to the organization. It is very important to understand how to interact with APIs to collect data in our day to day work.\n",
        "\n",
        "You might be wondering: why basketball? The main reason is availability of data.\n",
        "\n",
        "The sport is played at a fast pace, with hundreds of plays in each single game, thousands of games in a season, and with a relatively small amount of on-court players, which gives them a lot of interactions with the ball, which in turn provides an oportunity to collect a great amount of data about each player performance."
      ]
    },
    {
      "cell_type": "markdown",
      "id": "01778870-2619-4f79-a9a9-39e5d368cc18",
      "metadata": {
        "id": "01778870-2619-4f79-a9a9-39e5d368cc18"
      },
      "source": [
        "These are the objectives of the project:\n",
        "- Understanding how to query an API to create a dataset with Python and Pandas\n",
        "- Learning how to cleanup a dataset and generate new fields from calculated data\n",
        "- Storing the created dataset in a serialized manner\n",
        "- Generating statistics about the data\n",
        "- Visualizing data"
      ]
    },
    {
      "cell_type": "markdown",
      "id": "67f24c7c-0f5e-4e1e-afe9-d7a1a99665f5",
      "metadata": {
        "id": "67f24c7c-0f5e-4e1e-afe9-d7a1a99665f5"
      },
      "source": [
        "## Introduction"
      ]
    },
    {
      "cell_type": "markdown",
      "id": "efb6e67d-55c9-4af3-9f9b-ca503be01355",
      "metadata": {
        "id": "efb6e67d-55c9-4af3-9f9b-ca503be01355"
      },
      "source": [
        "### A brief description of basketball and the NBA"
      ]
    },
    {
      "cell_type": "markdown",
      "id": "7d6da412-3b11-4541-9165-b4eea8570c3e",
      "metadata": {
        "id": "7d6da412-3b11-4541-9165-b4eea8570c3e"
      },
      "source": [
        "The National Basketball Association is the main basketball league in the United States of America. It currently features 30 teams from different cities, divided in 2 conferences (East and West) of 15 teams. Each team plays a total of 82 games during the regular season. After that, the 8 teams with better records from each conference are seeded in a playoff format, with the winner of each conference playing the finals to determine the eventual champion. NBA seasons usually play out between october of one year, to june of the next year, so for example the current season being played is called the 2021/2022 season.\n",
        "\n",
        "As in most leagues in the world, the game is played 5 vs 5 players, with as many as 9 reserve players that can rotate with the starters as many times as the team wants. Games are played to 48 minutes, so the total amount of minutes of combined play time for any team in a single game with no added time is 240 minutes. If the score is tied at the end of the 48 minutes, 5 minutes of extra time are played, this continues until a winner is decided.\n",
        "\n",
        "Even though they can play multiple positions, players are usually classified according to the following positions:\n",
        "\n",
        "- Guards\n",
        "    - Point Guards\n",
        "    - Shooting Guards\n",
        "- Forwards\n",
        "    - Small Forwards\n",
        "    - Power Forwards\n",
        "- Centers\n",
        "\n",
        "We will mainly focus on the three main positions: Guards/Forwards/Centers"
      ]
    },
    {
      "cell_type": "markdown",
      "id": "6cfdce7d-d6c4-4fb4-8906-4fbca324ab45",
      "metadata": {
        "id": "6cfdce7d-d6c4-4fb4-8906-4fbca324ab45"
      },
      "source": [
        "### The dataset"
      ]
    },
    {
      "cell_type": "markdown",
      "id": "06cbbd6b-4588-4991-890d-c0cdc4240e0a",
      "metadata": {
        "id": "06cbbd6b-4588-4991-890d-c0cdc4240e0a"
      },
      "source": [
        "You'll be in charge of creating our dataset. We want to create a single pandas dataframe with information about all active players in the current NBA season. \n",
        "The dataset needs to have the following structure:\n",
        "\n",
        "- Personal Information\n",
        "    - player_id (int) (INDEX) \n",
        "    - player_name (str)\n",
        "    - team_name (str)\n",
        "    - position (str)\n",
        "    - height (int) (in centimeters) \n",
        "    - weight (float) (in kilograms)\n",
        "    - country of origin (str)\n",
        "    - date_of_birth (datetime)\n",
        "    - age (str) (years and months)\n",
        "    - years_of_experience (int) (years since entering the league)\n",
        "    - Draft position (int)\n",
        "- Player career statistics\n",
        "    - games played (int)\n",
        "    - minutes per game (float)\n",
        "    - points per game (float)\n",
        "    - rebounds per game (float)\n",
        "    - assists per game (float)\n",
        "    - steals per game (float)\n",
        "    - blocks per game (float)\n",
        "- Misc\n",
        "    - salary in dollars (int) (contract value for this season only)"
      ]
    },
    {
      "cell_type": "markdown",
      "id": "a8549d4d-6773-4eaf-939e-7dd96b16d656",
      "metadata": {
        "id": "a8549d4d-6773-4eaf-939e-7dd96b16d656"
      },
      "source": [
        "Here is a sample of how the final result should look like:"
      ]
    },
    {
      "cell_type": "code",
      "execution_count": null,
      "id": "4d6d7c9f-2030-42d0-87ac-017dbe6a7d19",
      "metadata": {
        "id": "4d6d7c9f-2030-42d0-87ac-017dbe6a7d19",
        "outputId": "087d3253-a24f-4493-9651-169df93917fd",
        "colab": {
          "base_uri": "https://localhost:8080/",
          "height": 364
        }
      },
      "outputs": [
        {
          "output_type": "execute_result",
          "data": {
            "text/plain": [
              "             PLAYER_NAME      TEAM_NAME POSITION  HEIGHT  WEIGHT  \\\n",
              "200765       Rajon Rondo      Cavaliers    Guard     185      82   \n",
              "203107  Tomas Satoransky        Wizards    Guard     201      95   \n",
              "204060        Joe Ingles  Trail Blazers  Forward     203     100   \n",
              "\n",
              "               COUNTRY  BIRTHDATE  SEASON_EXP DRAFT_NUMBER   GP   MIN  PTS  \\\n",
              "200765             USA 1986-02-22          15           21  957  29.9  9.8   \n",
              "203107  Czech Republic 1991-10-30           5           32  388  22.2  6.9   \n",
              "204060       Australia 1987-10-02           7    Undrafted  590  25.7  8.6   \n",
              "\n",
              "        REB  AST  STL  BLK    SALARY                          AGE  \n",
              "200765  4.5  7.9  1.6  0.1   2641691  36 years, 1 months, 19 days  \n",
              "203107  2.9  4.1  0.8  0.2  10468119  30 years, 5 months, 11 days  \n",
              "204060  3.2  3.8  0.9  0.2  14000000   34 years, 6 months, 8 days  "
            ],
            "text/html": [
              "\n",
              "  <div id=\"df-abbe27be-3884-4c1f-85bc-1f3bdad7a5c0\">\n",
              "    <div class=\"colab-df-container\">\n",
              "      <div>\n",
              "<style scoped>\n",
              "    .dataframe tbody tr th:only-of-type {\n",
              "        vertical-align: middle;\n",
              "    }\n",
              "\n",
              "    .dataframe tbody tr th {\n",
              "        vertical-align: top;\n",
              "    }\n",
              "\n",
              "    .dataframe thead th {\n",
              "        text-align: right;\n",
              "    }\n",
              "</style>\n",
              "<table border=\"1\" class=\"dataframe\">\n",
              "  <thead>\n",
              "    <tr style=\"text-align: right;\">\n",
              "      <th></th>\n",
              "      <th>PLAYER_NAME</th>\n",
              "      <th>TEAM_NAME</th>\n",
              "      <th>POSITION</th>\n",
              "      <th>HEIGHT</th>\n",
              "      <th>WEIGHT</th>\n",
              "      <th>COUNTRY</th>\n",
              "      <th>BIRTHDATE</th>\n",
              "      <th>SEASON_EXP</th>\n",
              "      <th>DRAFT_NUMBER</th>\n",
              "      <th>GP</th>\n",
              "      <th>MIN</th>\n",
              "      <th>PTS</th>\n",
              "      <th>REB</th>\n",
              "      <th>AST</th>\n",
              "      <th>STL</th>\n",
              "      <th>BLK</th>\n",
              "      <th>SALARY</th>\n",
              "      <th>AGE</th>\n",
              "    </tr>\n",
              "  </thead>\n",
              "  <tbody>\n",
              "    <tr>\n",
              "      <th>200765</th>\n",
              "      <td>Rajon Rondo</td>\n",
              "      <td>Cavaliers</td>\n",
              "      <td>Guard</td>\n",
              "      <td>185</td>\n",
              "      <td>82</td>\n",
              "      <td>USA</td>\n",
              "      <td>1986-02-22</td>\n",
              "      <td>15</td>\n",
              "      <td>21</td>\n",
              "      <td>957</td>\n",
              "      <td>29.9</td>\n",
              "      <td>9.8</td>\n",
              "      <td>4.5</td>\n",
              "      <td>7.9</td>\n",
              "      <td>1.6</td>\n",
              "      <td>0.1</td>\n",
              "      <td>2641691</td>\n",
              "      <td>36 years, 1 months, 19 days</td>\n",
              "    </tr>\n",
              "    <tr>\n",
              "      <th>203107</th>\n",
              "      <td>Tomas Satoransky</td>\n",
              "      <td>Wizards</td>\n",
              "      <td>Guard</td>\n",
              "      <td>201</td>\n",
              "      <td>95</td>\n",
              "      <td>Czech Republic</td>\n",
              "      <td>1991-10-30</td>\n",
              "      <td>5</td>\n",
              "      <td>32</td>\n",
              "      <td>388</td>\n",
              "      <td>22.2</td>\n",
              "      <td>6.9</td>\n",
              "      <td>2.9</td>\n",
              "      <td>4.1</td>\n",
              "      <td>0.8</td>\n",
              "      <td>0.2</td>\n",
              "      <td>10468119</td>\n",
              "      <td>30 years, 5 months, 11 days</td>\n",
              "    </tr>\n",
              "    <tr>\n",
              "      <th>204060</th>\n",
              "      <td>Joe Ingles</td>\n",
              "      <td>Trail Blazers</td>\n",
              "      <td>Forward</td>\n",
              "      <td>203</td>\n",
              "      <td>100</td>\n",
              "      <td>Australia</td>\n",
              "      <td>1987-10-02</td>\n",
              "      <td>7</td>\n",
              "      <td>Undrafted</td>\n",
              "      <td>590</td>\n",
              "      <td>25.7</td>\n",
              "      <td>8.6</td>\n",
              "      <td>3.2</td>\n",
              "      <td>3.8</td>\n",
              "      <td>0.9</td>\n",
              "      <td>0.2</td>\n",
              "      <td>14000000</td>\n",
              "      <td>34 years, 6 months, 8 days</td>\n",
              "    </tr>\n",
              "  </tbody>\n",
              "</table>\n",
              "</div>\n",
              "      <button class=\"colab-df-convert\" onclick=\"convertToInteractive('df-abbe27be-3884-4c1f-85bc-1f3bdad7a5c0')\"\n",
              "              title=\"Convert this dataframe to an interactive table.\"\n",
              "              style=\"display:none;\">\n",
              "        \n",
              "  <svg xmlns=\"http://www.w3.org/2000/svg\" height=\"24px\"viewBox=\"0 0 24 24\"\n",
              "       width=\"24px\">\n",
              "    <path d=\"M0 0h24v24H0V0z\" fill=\"none\"/>\n",
              "    <path d=\"M18.56 5.44l.94 2.06.94-2.06 2.06-.94-2.06-.94-.94-2.06-.94 2.06-2.06.94zm-11 1L8.5 8.5l.94-2.06 2.06-.94-2.06-.94L8.5 2.5l-.94 2.06-2.06.94zm10 10l.94 2.06.94-2.06 2.06-.94-2.06-.94-.94-2.06-.94 2.06-2.06.94z\"/><path d=\"M17.41 7.96l-1.37-1.37c-.4-.4-.92-.59-1.43-.59-.52 0-1.04.2-1.43.59L10.3 9.45l-7.72 7.72c-.78.78-.78 2.05 0 2.83L4 21.41c.39.39.9.59 1.41.59.51 0 1.02-.2 1.41-.59l7.78-7.78 2.81-2.81c.8-.78.8-2.07 0-2.86zM5.41 20L4 18.59l7.72-7.72 1.47 1.35L5.41 20z\"/>\n",
              "  </svg>\n",
              "      </button>\n",
              "      \n",
              "  <style>\n",
              "    .colab-df-container {\n",
              "      display:flex;\n",
              "      flex-wrap:wrap;\n",
              "      gap: 12px;\n",
              "    }\n",
              "\n",
              "    .colab-df-convert {\n",
              "      background-color: #E8F0FE;\n",
              "      border: none;\n",
              "      border-radius: 50%;\n",
              "      cursor: pointer;\n",
              "      display: none;\n",
              "      fill: #1967D2;\n",
              "      height: 32px;\n",
              "      padding: 0 0 0 0;\n",
              "      width: 32px;\n",
              "    }\n",
              "\n",
              "    .colab-df-convert:hover {\n",
              "      background-color: #E2EBFA;\n",
              "      box-shadow: 0px 1px 2px rgba(60, 64, 67, 0.3), 0px 1px 3px 1px rgba(60, 64, 67, 0.15);\n",
              "      fill: #174EA6;\n",
              "    }\n",
              "\n",
              "    [theme=dark] .colab-df-convert {\n",
              "      background-color: #3B4455;\n",
              "      fill: #D2E3FC;\n",
              "    }\n",
              "\n",
              "    [theme=dark] .colab-df-convert:hover {\n",
              "      background-color: #434B5C;\n",
              "      box-shadow: 0px 1px 3px 1px rgba(0, 0, 0, 0.15);\n",
              "      filter: drop-shadow(0px 1px 2px rgba(0, 0, 0, 0.3));\n",
              "      fill: #FFFFFF;\n",
              "    }\n",
              "  </style>\n",
              "\n",
              "      <script>\n",
              "        const buttonEl =\n",
              "          document.querySelector('#df-abbe27be-3884-4c1f-85bc-1f3bdad7a5c0 button.colab-df-convert');\n",
              "        buttonEl.style.display =\n",
              "          google.colab.kernel.accessAllowed ? 'block' : 'none';\n",
              "\n",
              "        async function convertToInteractive(key) {\n",
              "          const element = document.querySelector('#df-abbe27be-3884-4c1f-85bc-1f3bdad7a5c0');\n",
              "          const dataTable =\n",
              "            await google.colab.kernel.invokeFunction('convertToInteractive',\n",
              "                                                     [key], {});\n",
              "          if (!dataTable) return;\n",
              "\n",
              "          const docLinkHtml = 'Like what you see? Visit the ' +\n",
              "            '<a target=\"_blank\" href=https://colab.research.google.com/notebooks/data_table.ipynb>data table notebook</a>'\n",
              "            + ' to learn more about interactive tables.';\n",
              "          element.innerHTML = '';\n",
              "          dataTable['output_type'] = 'display_data';\n",
              "          await google.colab.output.renderOutput(dataTable, element);\n",
              "          const docLink = document.createElement('div');\n",
              "          docLink.innerHTML = docLinkHtml;\n",
              "          element.appendChild(docLink);\n",
              "        }\n",
              "      </script>\n",
              "    </div>\n",
              "  </div>\n",
              "  "
            ]
          },
          "metadata": {},
          "execution_count": 1
        }
      ],
      "source": [
        "import pandas as pd\n",
        "import numpy as np\n",
        "\n",
        "sample_dict = {\n",
        "    'PLAYER_NAME': {200765: 'Rajon Rondo',  203107: 'Tomas Satoransky',  204060: 'Joe Ingles'},\n",
        "    'TEAM_NAME': {200765: 'Cavaliers', 203107: 'Wizards', 204060: 'Trail Blazers'},\n",
        "    'POSITION': {200765: 'Guard', 203107: 'Guard', 204060: 'Forward'},\n",
        "    'HEIGHT': {200765: 185, 203107: 201, 204060: 203},\n",
        "    'WEIGHT': {200765: 82, 203107: 95, 204060: 100},\n",
        "    'COUNTRY': {200765: 'USA', 203107: 'Czech Republic', 204060: 'Australia'},\n",
        "    'BIRTHDATE': {200765: pd.Timestamp('1986-02-22 00:00:00'), 203107: pd.Timestamp('1991-10-30 00:00:00'), 204060: pd.Timestamp('1987-10-02 00:00:00')},\n",
        "    'SEASON_EXP': {200765: 15, 203107: 5, 204060: 7},\n",
        "    'DRAFT_NUMBER': {200765: '21', 203107: '32', 204060: 'Undrafted'},\n",
        "    'GP': {200765: 957, 203107: 388, 204060: 590},\n",
        "    'MIN': {200765: 29.9, 203107: 22.2, 204060: 25.7},\n",
        "    'PTS': {200765: 9.8, 203107: 6.9, 204060: 8.6},\n",
        "    'REB': {200765: 4.5, 203107: 2.9, 204060: 3.2},\n",
        "    'AST': {200765: 7.9, 203107: 4.1, 204060: 3.8},\n",
        "    'STL': {200765: 1.6, 203107: 0.8, 204060: 0.9},\n",
        "    'BLK': {200765: 0.1, 203107: 0.2, 204060: 0.2},\n",
        "    'SALARY': {200765: 2641691, 203107: 10468119, 204060: 14000000},\n",
        "    'AGE': {200765: '36 years, 1 months, 19 days', 203107: '30 years, 5 months, 11 days', 204060: '34 years, 6 months, 8 days'}\n",
        "}\n",
        "pd.DataFrame(sample_dict)"
      ]
    },
    {
      "cell_type": "code",
      "source": [
        "!pip install nba_api"
      ],
      "metadata": {
        "colab": {
          "base_uri": "https://localhost:8080/"
        },
        "id": "6VJVxdU80tlz",
        "outputId": "dbaed0a4-5fcf-479c-c17a-3b4b4530e666"
      },
      "id": "6VJVxdU80tlz",
      "execution_count": null,
      "outputs": [
        {
          "output_type": "stream",
          "name": "stdout",
          "text": [
            "Looking in indexes: https://pypi.org/simple, https://us-python.pkg.dev/colab-wheels/public/simple/\n",
            "Requirement already satisfied: nba_api in /usr/local/lib/python3.8/dist-packages (1.1.14)\n",
            "Requirement already satisfied: requests in /usr/local/lib/python3.8/dist-packages (from nba_api) (2.25.1)\n",
            "Requirement already satisfied: numpy<2.0.0,>=1.22.2 in /usr/local/lib/python3.8/dist-packages (from nba_api) (1.24.2)\n",
            "Requirement already satisfied: chardet<5,>=3.0.2 in /usr/local/lib/python3.8/dist-packages (from requests->nba_api) (4.0.0)\n",
            "Requirement already satisfied: urllib3<1.27,>=1.21.1 in /usr/local/lib/python3.8/dist-packages (from requests->nba_api) (1.24.3)\n",
            "Requirement already satisfied: certifi>=2017.4.17 in /usr/local/lib/python3.8/dist-packages (from requests->nba_api) (2022.12.7)\n",
            "Requirement already satisfied: idna<3,>=2.5 in /usr/local/lib/python3.8/dist-packages (from requests->nba_api) (2.10)\n"
          ]
        }
      ]
    },
    {
      "cell_type": "markdown",
      "id": "2f6e860b-d366-4198-b74e-805fcc7bce6c",
      "metadata": {
        "id": "2f6e860b-d366-4198-b74e-805fcc7bce6c"
      },
      "source": [
        "##1. Collecting information for building our dataset"
      ]
    },
    {
      "cell_type": "markdown",
      "id": "54f9b97d-32f9-4ee1-830c-724d28b85833",
      "metadata": {
        "id": "54f9b97d-32f9-4ee1-830c-724d28b85833"
      },
      "source": [
        "In this section, we're only going to work on collecting the necessary raw data to build the required dataset. Don't worry about finishing everything here, we'll generate the appropiate fields and merge the data into a single dataframe in the next section.\n",
        "\n",
        "To get the information, you can use any public and free API you can find, but you have to provide the code that gets the information here. We recommend using this API:\n",
        " \n",
        "- https://github.com/swar/nba_api\n",
        "\n",
        "    This is a Python library that can be used to obtain data from stats.nba.com, it provides a set of methods that abstracts you from making the http calls, but directly makes calls to nba stats page and parses the results. [Here](https://github.com/swar/nba_api/blob/master/docs/examples/Basics.ipynb) are a couple of examples on how to use it.\n",
        "    \n",
        "\n",
        "A few notes on data collection:\n",
        "\n",
        "- Start simple. Try to get all the required information for 1 player, read the APIs documentation carefuly, then think about how to use them to collect all players data. \n",
        "\n",
        "- Please bear in mind that the most public APIs have some kind of rate limit, so you have to be careful about iterating on data and making lots of requests in a short amount of time (a 1 second delay between calls to the api should be enough). Once you've collected what you needed, save it to file in order to retrieve it later without calling the API again.\n",
        "\n",
        "- A key consideration: we only want data about players that have played in the current season, so make sure to filter those out before collecting the rest of the information.\n",
        "\n",
        "- There is at least one piece of information you're not going to find in both of those APIs: the player contract information. Use the \"contracts.csv\" that is provided to you."
      ]
    },
    {
      "cell_type": "markdown",
      "id": "ae032907-b133-4cf8-8026-85f853755e46",
      "metadata": {
        "id": "ae032907-b133-4cf8-8026-85f853755e46"
      },
      "source": [
        "1.1- Create a function to find all ACTIVE players, meaning players that are listed with a team in the 2021/2022 season. For now you only need the player id, name, and team. Save the dataframe to a csv named \"nba_current_players_list.csv\". The function should return the dataframe."
      ]
    },
    {
      "cell_type": "markdown",
      "id": "ab2a86ef-3be9-42e2-a17d-111924c8ca2a",
      "metadata": {
        "id": "ab2a86ef-3be9-42e2-a17d-111924c8ca2a"
      },
      "source": [
        "Hint: you should find an API method that can give you a list of players in just one call, this way we can filter those players we're interested in, and later will make calls for each specific player."
      ]
    },
    {
      "cell_type": "markdown",
      "id": "b5e2138b-0640-4420-9ca3-dbbe4033620c",
      "metadata": {
        "id": "b5e2138b-0640-4420-9ca3-dbbe4033620c"
      },
      "source": [
        "Consider dropping: \n",
        "- All players with TEAM_ID == 0\n",
        "- All players with GAMES_PLAYED_FLAG == N\n",
        "- Players with id 1630597 & 1630492 (These guys are a problem ;))"
      ]
    },
    {
      "cell_type": "code",
      "source": [
        "from nba_api.stats.endpoints import commonallplayers\n",
        "\n",
        "proof = commonallplayers.CommonAllPlayers()\n",
        "proof = proof.common_all_players.get_data_frame()\n",
        "proof\n",
        "\n"
      ],
      "metadata": {
        "colab": {
          "base_uri": "https://localhost:8080/",
          "height": 540
        },
        "id": "ikfn34qx0jx6",
        "outputId": "7ccd927b-c718-464c-e914-37c33e1075d5"
      },
      "id": "ikfn34qx0jx6",
      "execution_count": null,
      "outputs": [
        {
          "output_type": "execute_result",
          "data": {
            "text/plain": [
              "      PERSON_ID DISPLAY_LAST_COMMA_FIRST   DISPLAY_FIRST_LAST  ROSTERSTATUS  \\\n",
              "0         76001          Abdelnaby, Alaa       Alaa Abdelnaby             0   \n",
              "1         76002         Abdul-Aziz, Zaid      Zaid Abdul-Aziz             0   \n",
              "2         76003     Abdul-Jabbar, Kareem  Kareem Abdul-Jabbar             0   \n",
              "3            51      Abdul-Rauf, Mahmoud   Mahmoud Abdul-Rauf             0   \n",
              "4          1505       Abdul-Wahad, Tariq    Tariq Abdul-Wahad             0   \n",
              "...         ...                      ...                  ...           ...   \n",
              "4805    1627790              Zizic, Ante           Ante Zizic             0   \n",
              "4806      78647                Zoet, Jim             Jim Zoet             0   \n",
              "4807      78648               Zopf, Bill            Bill Zopf             0   \n",
              "4808    1627826             Zubac, Ivica          Ivica Zubac             1   \n",
              "4809      78650              Zunic, Matt           Matt Zunic             0   \n",
              "\n",
              "     FROM_YEAR TO_YEAR                   PLAYERCODE          PLAYER_SLUG  \\\n",
              "0         1990    1994       HISTADD_alaa_abdelnaby       alaa_abdelnaby   \n",
              "1         1968    1977      HISTADD_zaid_abdul-aziz      zaid_abdul-aziz   \n",
              "2         1969    1988  HISTADD_kareem_abdul-jabbar  kareem_abdul-jabbar   \n",
              "3         1990    2000           mahmoud_abdul-rauf   mahmoud_abdul-rauf   \n",
              "4         1997    2003            tariq_abdul-wahad    tariq_abdul-wahad   \n",
              "...        ...     ...                          ...                  ...   \n",
              "4805      2017    2019                   ante_zizic           ante_zizic   \n",
              "4806      1982    1982             HISTADD_jim_zoet             jim_zoet   \n",
              "4807      1970    1970             HISTADD_zip_zopf            bill_zopf   \n",
              "4808      2016    2022                  ivica_zubac          ivica_zubac   \n",
              "4809      1948    1948           HISTADD_matt_zunic           matt_zunic   \n",
              "\n",
              "         TEAM_ID TEAM_CITY TEAM_NAME TEAM_ABBREVIATION TEAM_CODE TEAM_SLUG  \\\n",
              "0              0                                                      None   \n",
              "1              0                                                      None   \n",
              "2              0                                                      None   \n",
              "3              0                                                      None   \n",
              "4              0                                                      None   \n",
              "...          ...       ...       ...               ...       ...       ...   \n",
              "4805           0                                                      None   \n",
              "4806           0                                                      None   \n",
              "4807           0                                                      None   \n",
              "4808  1610612746        LA  Clippers               LAC  clippers  clippers   \n",
              "4809           0                                                      None   \n",
              "\n",
              "     GAMES_PLAYED_FLAG OTHERLEAGUE_EXPERIENCE_CH  \n",
              "0                    Y                        00  \n",
              "1                    Y                        00  \n",
              "2                    Y                        00  \n",
              "3                    Y                        00  \n",
              "4                    Y                        00  \n",
              "...                ...                       ...  \n",
              "4805                 Y                        01  \n",
              "4806                 Y                        00  \n",
              "4807                 Y                        00  \n",
              "4808                 Y                        01  \n",
              "4809                 Y                        00  \n",
              "\n",
              "[4810 rows x 16 columns]"
            ],
            "text/html": [
              "\n",
              "  <div id=\"df-dcbc73fc-83e4-43a9-b7f7-edf9ae9c4d7a\">\n",
              "    <div class=\"colab-df-container\">\n",
              "      <div>\n",
              "<style scoped>\n",
              "    .dataframe tbody tr th:only-of-type {\n",
              "        vertical-align: middle;\n",
              "    }\n",
              "\n",
              "    .dataframe tbody tr th {\n",
              "        vertical-align: top;\n",
              "    }\n",
              "\n",
              "    .dataframe thead th {\n",
              "        text-align: right;\n",
              "    }\n",
              "</style>\n",
              "<table border=\"1\" class=\"dataframe\">\n",
              "  <thead>\n",
              "    <tr style=\"text-align: right;\">\n",
              "      <th></th>\n",
              "      <th>PERSON_ID</th>\n",
              "      <th>DISPLAY_LAST_COMMA_FIRST</th>\n",
              "      <th>DISPLAY_FIRST_LAST</th>\n",
              "      <th>ROSTERSTATUS</th>\n",
              "      <th>FROM_YEAR</th>\n",
              "      <th>TO_YEAR</th>\n",
              "      <th>PLAYERCODE</th>\n",
              "      <th>PLAYER_SLUG</th>\n",
              "      <th>TEAM_ID</th>\n",
              "      <th>TEAM_CITY</th>\n",
              "      <th>TEAM_NAME</th>\n",
              "      <th>TEAM_ABBREVIATION</th>\n",
              "      <th>TEAM_CODE</th>\n",
              "      <th>TEAM_SLUG</th>\n",
              "      <th>GAMES_PLAYED_FLAG</th>\n",
              "      <th>OTHERLEAGUE_EXPERIENCE_CH</th>\n",
              "    </tr>\n",
              "  </thead>\n",
              "  <tbody>\n",
              "    <tr>\n",
              "      <th>0</th>\n",
              "      <td>76001</td>\n",
              "      <td>Abdelnaby, Alaa</td>\n",
              "      <td>Alaa Abdelnaby</td>\n",
              "      <td>0</td>\n",
              "      <td>1990</td>\n",
              "      <td>1994</td>\n",
              "      <td>HISTADD_alaa_abdelnaby</td>\n",
              "      <td>alaa_abdelnaby</td>\n",
              "      <td>0</td>\n",
              "      <td></td>\n",
              "      <td></td>\n",
              "      <td></td>\n",
              "      <td></td>\n",
              "      <td>None</td>\n",
              "      <td>Y</td>\n",
              "      <td>00</td>\n",
              "    </tr>\n",
              "    <tr>\n",
              "      <th>1</th>\n",
              "      <td>76002</td>\n",
              "      <td>Abdul-Aziz, Zaid</td>\n",
              "      <td>Zaid Abdul-Aziz</td>\n",
              "      <td>0</td>\n",
              "      <td>1968</td>\n",
              "      <td>1977</td>\n",
              "      <td>HISTADD_zaid_abdul-aziz</td>\n",
              "      <td>zaid_abdul-aziz</td>\n",
              "      <td>0</td>\n",
              "      <td></td>\n",
              "      <td></td>\n",
              "      <td></td>\n",
              "      <td></td>\n",
              "      <td>None</td>\n",
              "      <td>Y</td>\n",
              "      <td>00</td>\n",
              "    </tr>\n",
              "    <tr>\n",
              "      <th>2</th>\n",
              "      <td>76003</td>\n",
              "      <td>Abdul-Jabbar, Kareem</td>\n",
              "      <td>Kareem Abdul-Jabbar</td>\n",
              "      <td>0</td>\n",
              "      <td>1969</td>\n",
              "      <td>1988</td>\n",
              "      <td>HISTADD_kareem_abdul-jabbar</td>\n",
              "      <td>kareem_abdul-jabbar</td>\n",
              "      <td>0</td>\n",
              "      <td></td>\n",
              "      <td></td>\n",
              "      <td></td>\n",
              "      <td></td>\n",
              "      <td>None</td>\n",
              "      <td>Y</td>\n",
              "      <td>00</td>\n",
              "    </tr>\n",
              "    <tr>\n",
              "      <th>3</th>\n",
              "      <td>51</td>\n",
              "      <td>Abdul-Rauf, Mahmoud</td>\n",
              "      <td>Mahmoud Abdul-Rauf</td>\n",
              "      <td>0</td>\n",
              "      <td>1990</td>\n",
              "      <td>2000</td>\n",
              "      <td>mahmoud_abdul-rauf</td>\n",
              "      <td>mahmoud_abdul-rauf</td>\n",
              "      <td>0</td>\n",
              "      <td></td>\n",
              "      <td></td>\n",
              "      <td></td>\n",
              "      <td></td>\n",
              "      <td>None</td>\n",
              "      <td>Y</td>\n",
              "      <td>00</td>\n",
              "    </tr>\n",
              "    <tr>\n",
              "      <th>4</th>\n",
              "      <td>1505</td>\n",
              "      <td>Abdul-Wahad, Tariq</td>\n",
              "      <td>Tariq Abdul-Wahad</td>\n",
              "      <td>0</td>\n",
              "      <td>1997</td>\n",
              "      <td>2003</td>\n",
              "      <td>tariq_abdul-wahad</td>\n",
              "      <td>tariq_abdul-wahad</td>\n",
              "      <td>0</td>\n",
              "      <td></td>\n",
              "      <td></td>\n",
              "      <td></td>\n",
              "      <td></td>\n",
              "      <td>None</td>\n",
              "      <td>Y</td>\n",
              "      <td>00</td>\n",
              "    </tr>\n",
              "    <tr>\n",
              "      <th>...</th>\n",
              "      <td>...</td>\n",
              "      <td>...</td>\n",
              "      <td>...</td>\n",
              "      <td>...</td>\n",
              "      <td>...</td>\n",
              "      <td>...</td>\n",
              "      <td>...</td>\n",
              "      <td>...</td>\n",
              "      <td>...</td>\n",
              "      <td>...</td>\n",
              "      <td>...</td>\n",
              "      <td>...</td>\n",
              "      <td>...</td>\n",
              "      <td>...</td>\n",
              "      <td>...</td>\n",
              "      <td>...</td>\n",
              "    </tr>\n",
              "    <tr>\n",
              "      <th>4805</th>\n",
              "      <td>1627790</td>\n",
              "      <td>Zizic, Ante</td>\n",
              "      <td>Ante Zizic</td>\n",
              "      <td>0</td>\n",
              "      <td>2017</td>\n",
              "      <td>2019</td>\n",
              "      <td>ante_zizic</td>\n",
              "      <td>ante_zizic</td>\n",
              "      <td>0</td>\n",
              "      <td></td>\n",
              "      <td></td>\n",
              "      <td></td>\n",
              "      <td></td>\n",
              "      <td>None</td>\n",
              "      <td>Y</td>\n",
              "      <td>01</td>\n",
              "    </tr>\n",
              "    <tr>\n",
              "      <th>4806</th>\n",
              "      <td>78647</td>\n",
              "      <td>Zoet, Jim</td>\n",
              "      <td>Jim Zoet</td>\n",
              "      <td>0</td>\n",
              "      <td>1982</td>\n",
              "      <td>1982</td>\n",
              "      <td>HISTADD_jim_zoet</td>\n",
              "      <td>jim_zoet</td>\n",
              "      <td>0</td>\n",
              "      <td></td>\n",
              "      <td></td>\n",
              "      <td></td>\n",
              "      <td></td>\n",
              "      <td>None</td>\n",
              "      <td>Y</td>\n",
              "      <td>00</td>\n",
              "    </tr>\n",
              "    <tr>\n",
              "      <th>4807</th>\n",
              "      <td>78648</td>\n",
              "      <td>Zopf, Bill</td>\n",
              "      <td>Bill Zopf</td>\n",
              "      <td>0</td>\n",
              "      <td>1970</td>\n",
              "      <td>1970</td>\n",
              "      <td>HISTADD_zip_zopf</td>\n",
              "      <td>bill_zopf</td>\n",
              "      <td>0</td>\n",
              "      <td></td>\n",
              "      <td></td>\n",
              "      <td></td>\n",
              "      <td></td>\n",
              "      <td>None</td>\n",
              "      <td>Y</td>\n",
              "      <td>00</td>\n",
              "    </tr>\n",
              "    <tr>\n",
              "      <th>4808</th>\n",
              "      <td>1627826</td>\n",
              "      <td>Zubac, Ivica</td>\n",
              "      <td>Ivica Zubac</td>\n",
              "      <td>1</td>\n",
              "      <td>2016</td>\n",
              "      <td>2022</td>\n",
              "      <td>ivica_zubac</td>\n",
              "      <td>ivica_zubac</td>\n",
              "      <td>1610612746</td>\n",
              "      <td>LA</td>\n",
              "      <td>Clippers</td>\n",
              "      <td>LAC</td>\n",
              "      <td>clippers</td>\n",
              "      <td>clippers</td>\n",
              "      <td>Y</td>\n",
              "      <td>01</td>\n",
              "    </tr>\n",
              "    <tr>\n",
              "      <th>4809</th>\n",
              "      <td>78650</td>\n",
              "      <td>Zunic, Matt</td>\n",
              "      <td>Matt Zunic</td>\n",
              "      <td>0</td>\n",
              "      <td>1948</td>\n",
              "      <td>1948</td>\n",
              "      <td>HISTADD_matt_zunic</td>\n",
              "      <td>matt_zunic</td>\n",
              "      <td>0</td>\n",
              "      <td></td>\n",
              "      <td></td>\n",
              "      <td></td>\n",
              "      <td></td>\n",
              "      <td>None</td>\n",
              "      <td>Y</td>\n",
              "      <td>00</td>\n",
              "    </tr>\n",
              "  </tbody>\n",
              "</table>\n",
              "<p>4810 rows × 16 columns</p>\n",
              "</div>\n",
              "      <button class=\"colab-df-convert\" onclick=\"convertToInteractive('df-dcbc73fc-83e4-43a9-b7f7-edf9ae9c4d7a')\"\n",
              "              title=\"Convert this dataframe to an interactive table.\"\n",
              "              style=\"display:none;\">\n",
              "        \n",
              "  <svg xmlns=\"http://www.w3.org/2000/svg\" height=\"24px\"viewBox=\"0 0 24 24\"\n",
              "       width=\"24px\">\n",
              "    <path d=\"M0 0h24v24H0V0z\" fill=\"none\"/>\n",
              "    <path d=\"M18.56 5.44l.94 2.06.94-2.06 2.06-.94-2.06-.94-.94-2.06-.94 2.06-2.06.94zm-11 1L8.5 8.5l.94-2.06 2.06-.94-2.06-.94L8.5 2.5l-.94 2.06-2.06.94zm10 10l.94 2.06.94-2.06 2.06-.94-2.06-.94-.94-2.06-.94 2.06-2.06.94z\"/><path d=\"M17.41 7.96l-1.37-1.37c-.4-.4-.92-.59-1.43-.59-.52 0-1.04.2-1.43.59L10.3 9.45l-7.72 7.72c-.78.78-.78 2.05 0 2.83L4 21.41c.39.39.9.59 1.41.59.51 0 1.02-.2 1.41-.59l7.78-7.78 2.81-2.81c.8-.78.8-2.07 0-2.86zM5.41 20L4 18.59l7.72-7.72 1.47 1.35L5.41 20z\"/>\n",
              "  </svg>\n",
              "      </button>\n",
              "      \n",
              "  <style>\n",
              "    .colab-df-container {\n",
              "      display:flex;\n",
              "      flex-wrap:wrap;\n",
              "      gap: 12px;\n",
              "    }\n",
              "\n",
              "    .colab-df-convert {\n",
              "      background-color: #E8F0FE;\n",
              "      border: none;\n",
              "      border-radius: 50%;\n",
              "      cursor: pointer;\n",
              "      display: none;\n",
              "      fill: #1967D2;\n",
              "      height: 32px;\n",
              "      padding: 0 0 0 0;\n",
              "      width: 32px;\n",
              "    }\n",
              "\n",
              "    .colab-df-convert:hover {\n",
              "      background-color: #E2EBFA;\n",
              "      box-shadow: 0px 1px 2px rgba(60, 64, 67, 0.3), 0px 1px 3px 1px rgba(60, 64, 67, 0.15);\n",
              "      fill: #174EA6;\n",
              "    }\n",
              "\n",
              "    [theme=dark] .colab-df-convert {\n",
              "      background-color: #3B4455;\n",
              "      fill: #D2E3FC;\n",
              "    }\n",
              "\n",
              "    [theme=dark] .colab-df-convert:hover {\n",
              "      background-color: #434B5C;\n",
              "      box-shadow: 0px 1px 3px 1px rgba(0, 0, 0, 0.15);\n",
              "      filter: drop-shadow(0px 1px 2px rgba(0, 0, 0, 0.3));\n",
              "      fill: #FFFFFF;\n",
              "    }\n",
              "  </style>\n",
              "\n",
              "      <script>\n",
              "        const buttonEl =\n",
              "          document.querySelector('#df-dcbc73fc-83e4-43a9-b7f7-edf9ae9c4d7a button.colab-df-convert');\n",
              "        buttonEl.style.display =\n",
              "          google.colab.kernel.accessAllowed ? 'block' : 'none';\n",
              "\n",
              "        async function convertToInteractive(key) {\n",
              "          const element = document.querySelector('#df-dcbc73fc-83e4-43a9-b7f7-edf9ae9c4d7a');\n",
              "          const dataTable =\n",
              "            await google.colab.kernel.invokeFunction('convertToInteractive',\n",
              "                                                     [key], {});\n",
              "          if (!dataTable) return;\n",
              "\n",
              "          const docLinkHtml = 'Like what you see? Visit the ' +\n",
              "            '<a target=\"_blank\" href=https://colab.research.google.com/notebooks/data_table.ipynb>data table notebook</a>'\n",
              "            + ' to learn more about interactive tables.';\n",
              "          element.innerHTML = '';\n",
              "          dataTable['output_type'] = 'display_data';\n",
              "          await google.colab.output.renderOutput(dataTable, element);\n",
              "          const docLink = document.createElement('div');\n",
              "          docLink.innerHTML = docLinkHtml;\n",
              "          element.appendChild(docLink);\n",
              "        }\n",
              "      </script>\n",
              "    </div>\n",
              "  </div>\n",
              "  "
            ]
          },
          "metadata": {},
          "execution_count": 9
        }
      ]
    },
    {
      "cell_type": "code",
      "execution_count": null,
      "id": "2ce48cb6-3f35-4f62-a652-edc84f171010",
      "metadata": {
        "id": "2ce48cb6-3f35-4f62-a652-edc84f171010"
      },
      "outputs": [],
      "source": [
        "### Complete in this cell: get all active players from the api\n",
        "def get_and_save_players_list():\n",
        "    dataset"
      ]
    },
    {
      "cell_type": "code",
      "execution_count": null,
      "id": "d1619cb8-d6cf-4645-b696-a351fac2f3a9",
      "metadata": {
        "id": "d1619cb8-d6cf-4645-b696-a351fac2f3a9"
      },
      "outputs": [],
      "source": [
        "current_players_list = get_and_save_players_list()\n",
        "current_players_list.to_csv(\"nba_current_players_list.csv\")"
      ]
    },
    {
      "cell_type": "markdown",
      "source": [],
      "metadata": {
        "id": "NEJbHslWzv25"
      },
      "id": "NEJbHslWzv25"
    },
    {
      "cell_type": "markdown",
      "source": [
        "*Don't change anything in this cell, just make it run correctly*"
      ],
      "metadata": {
        "id": "-wKw4EcUuZ8u"
      },
      "id": "-wKw4EcUuZ8u"
    },
    {
      "cell_type": "code",
      "source": [
        "if current_players_list.shape == (503, 16):\n",
        "    print('Success!')\n",
        "else:\n",
        "    raise ValueError('The shape is incorrect, please review your function')"
      ],
      "metadata": {
        "id": "wBoSY4CtuamP"
      },
      "id": "wBoSY4CtuamP",
      "execution_count": null,
      "outputs": []
    },
    {
      "cell_type": "markdown",
      "id": "d8ea7729-4019-4d7e-9167-e412becbf215",
      "metadata": {
        "id": "d8ea7729-4019-4d7e-9167-e412becbf215"
      },
      "source": [
        "1.2- Create a function to find the personal information of all players listed in the dataframe created in the previous step, and save it to a csv file named \"nba_players_personal_info.csv\". The function should also return the created dataframe."
      ]
    },
    {
      "cell_type": "markdown",
      "id": "428bef6b-05d0-4a9a-82cd-71fa81837247",
      "metadata": {
        "id": "428bef6b-05d0-4a9a-82cd-71fa81837247"
      },
      "source": [
        "OPTIONAL: iterating on a list of players and making API calls can be complex and full of errors, try a code block that handles exceptions (for example a timeout from the API) and returns the partial result before it failed, you could also save the partial information to disk."
      ]
    },
    {
      "cell_type": "code",
      "execution_count": null,
      "id": "541491d1-33eb-4277-afb5-ff449109f680",
      "metadata": {
        "id": "541491d1-33eb-4277-afb5-ff449109f680"
      },
      "outputs": [],
      "source": [
        "### Complete in this cell: Find players personal information (name, age, dob, etc), store the information in a CSV file.\n",
        "\n",
        "def get_players_personal_information(current_players_list):\n",
        "    pass  "
      ]
    },
    {
      "cell_type": "code",
      "execution_count": null,
      "id": "d34373b8-fc72-48e1-aef3-654508a27308",
      "metadata": {
        "id": "d34373b8-fc72-48e1-aef3-654508a27308"
      },
      "outputs": [],
      "source": [
        "players_personal_info = get_players_personal_information(current_players_list)\n",
        "players_personal_info.to_csv(\"nba_players_personal_info.csv\")"
      ]
    },
    {
      "cell_type": "markdown",
      "source": [
        "*Don't change anything in this cell, just make it run correctly*"
      ],
      "metadata": {
        "id": "64ZMGw1RzTJA"
      },
      "id": "64ZMGw1RzTJA"
    },
    {
      "cell_type": "code",
      "source": [
        "if players_personal_info.shape == (503, 33):\n",
        "    print('Success!')\n",
        "else:\n",
        "    raise ValueError('The shape is incorrect, please review your function')"
      ],
      "metadata": {
        "id": "FbhEIlQCzUfX"
      },
      "id": "FbhEIlQCzUfX",
      "execution_count": null,
      "outputs": []
    },
    {
      "cell_type": "markdown",
      "id": "299218a4-1d90-4f55-822a-ec059474ea69",
      "metadata": {
        "id": "299218a4-1d90-4f55-822a-ec059474ea69"
      },
      "source": [
        "1.3- Create a function to find players career statistics, store the information in a CSV file called \"nba_players_career_stats.csv\". Remember to get the Per Game average, not the Career Totals."
      ]
    },
    {
      "cell_type": "code",
      "execution_count": null,
      "id": "1b579e0d-6899-41ce-8f7f-d7e1e5f463c2",
      "metadata": {
        "id": "1b579e0d-6899-41ce-8f7f-d7e1e5f463c2"
      },
      "outputs": [],
      "source": [
        "### Complete in this cell: find players per game career stats, save to csv file\n",
        "\n",
        "def get_players_career_stats(current_players_list):\n",
        "    pass"
      ]
    },
    {
      "cell_type": "code",
      "execution_count": null,
      "id": "af100c14-2b06-4019-8a6a-6299f66da4df",
      "metadata": {
        "id": "af100c14-2b06-4019-8a6a-6299f66da4df"
      },
      "outputs": [],
      "source": [
        "players_career_stats = get_players_career_stats(current_players_list)\n",
        "players_career_stats.to_csv(\"nba_players_career_stats.csv\")"
      ]
    },
    {
      "cell_type": "markdown",
      "source": [
        "*Don't change anything in this cell, just make it run correctly*"
      ],
      "metadata": {
        "id": "2ok9xEX0367P"
      },
      "id": "2ok9xEX0367P"
    },
    {
      "cell_type": "code",
      "execution_count": null,
      "id": "a077c5b4-28c9-4d16-b559-0b1e5caac837",
      "metadata": {
        "id": "a077c5b4-28c9-4d16-b559-0b1e5caac837"
      },
      "outputs": [],
      "source": [
        "if players_career_stats.shape == (503, 24):\n",
        "    print('Success!')\n",
        "else:\n",
        "    raise ValueError('The shape is incorrect, please review your function')"
      ]
    },
    {
      "cell_type": "markdown",
      "id": "55b8ce09-e5d9-4f82-87db-ffe2916cc431",
      "metadata": {
        "id": "55b8ce09-e5d9-4f82-87db-ffe2916cc431"
      },
      "source": [
        "1.4- Create a function to find players salary for this season. You can get the list of players and salaries from this file: [contracts.csv](https://drive.google.com/file/d/1bxjuIZfMS2_kickukdC3ggdXIVeZE5y7/view?usp=sharing). Download and use this file as input for your function `get_nba_players_salaries()`.\n",
        "\n",
        "Also, inside this function, save the information to a csv called \"nba_players_salary.csv\". Make sure the players names format match the ones in the API, otherwise you won't be able to merge the data later."
      ]
    },
    {
      "cell_type": "markdown",
      "id": "10da071b-ca7d-429e-bb85-e731cd66abb7",
      "metadata": {
        "id": "10da071b-ca7d-429e-bb85-e731cd66abb7"
      },
      "source": [
        "*Hint:* Using data from the Basketball Reference page, you will have to solve 3 kinds of problems:\n",
        "1. Special characters that need to be removed.\n",
        "2. Duplicated values (for which you should keep just the first value) and,\n",
        "3. Players names not matching with the ones from the API. \n",
        "\n",
        "The latter problem has multiple causes, one of them is that some names are written with non ascii characters, we advice you to install and use [Unidecode](https://pypi.org/project/Unidecode/) library to solve this issue."
      ]
    },
    {
      "cell_type": "code",
      "execution_count": null,
      "id": "cecfecb4-62bb-41b9-b4ae-13b57c3e2198",
      "metadata": {
        "id": "cecfecb4-62bb-41b9-b4ae-13b57c3e2198"
      },
      "outputs": [],
      "source": [
        "### Complete in this cell: find players salary, save the information to csv\n",
        "\n",
        "def get_nba_players_salaries(csv_file_path):    \n",
        "    pass"
      ]
    },
    {
      "cell_type": "code",
      "execution_count": null,
      "id": "72f0edd5-c702-463e-8e17-4270a3131bba",
      "metadata": {
        "id": "72f0edd5-c702-463e-8e17-4270a3131bba"
      },
      "outputs": [],
      "source": [
        "players_salaries = get_nba_players_salaries(\"contracts.csv\")\n",
        "players_salaries.to_csv(\"nba_players_salary.csv\")"
      ]
    },
    {
      "cell_type": "markdown",
      "source": [
        "*Don't change anything in this cell, just make it run correctly*"
      ],
      "metadata": {
        "id": "fMAx0F4_2GnM"
      },
      "id": "fMAx0F4_2GnM"
    },
    {
      "cell_type": "code",
      "source": [
        "index_salary_1 = players_salaries[players_salaries['PLAYER_NAME']=='Kyrie Irving'].index.values[0]\n",
        "index_salary_2 = players_salaries[players_salaries['PLAYER_NAME']=='Luke Kennard'].index.values[0]\n",
        "\n",
        "if players_salaries.SALARY.loc[index_salary_1] == '34916200' and players_salaries.SALARY.loc[index_salary_2] == '12727273':\n",
        "    print('Success!')\n",
        "else:\n",
        "    raise ValueError('The salaries are incorrect, please review your function')"
      ],
      "metadata": {
        "id": "nfSS-Mx_37kV"
      },
      "id": "nfSS-Mx_37kV",
      "execution_count": null,
      "outputs": []
    },
    {
      "cell_type": "markdown",
      "id": "5bd1cb5a-d9d1-454e-80d3-81521ac1d94e",
      "metadata": {
        "id": "5bd1cb5a-d9d1-454e-80d3-81521ac1d94e"
      },
      "source": [
        "1.5- Create a function to merge the created dataframes: players_personal_info, players_career_stats, players_salaries. For each dataframe, select only the subset of columns needed to create the dataset described in section \"The Dataset\"\n",
        "\n",
        "    - Players info: \"PLAYER_NAME\", \"TEAM_NAME\", \"POSITION\", \"HEIGHT\", \"WEIGHT\", \"COUNTRY\", \"BIRTHDATE\", \"SEASON_EXP\", \"DRAFT_NUMBER\"\n",
        "    - Players stats: \"GP\", \"MIN\", \"PTS\", \"REB\", \"AST\", \"STL\", \"BLK\"\n",
        "    - Misc: \"SALARY\"\n",
        "\n",
        "Save the result to a csv called \"raw_nba_players_dataset.csv\""
      ]
    },
    {
      "cell_type": "markdown",
      "id": "4bb26887-9030-49dd-aa24-6433df8d6f50",
      "metadata": {
        "id": "4bb26887-9030-49dd-aa24-6433df8d6f50"
      },
      "source": [
        "Hint: Before merging the data, you should make sure all 3 dataframes have the same length, are indexed by PERSON_ID and have the same keys"
      ]
    },
    {
      "cell_type": "code",
      "execution_count": null,
      "id": "81bb411a-ecf4-4cd8-8cd8-2d9259397324",
      "metadata": {
        "id": "81bb411a-ecf4-4cd8-8cd8-2d9259397324"
      },
      "outputs": [],
      "source": [
        "### Complete in this cell: merge the dataframes\n",
        "def merge_dataframes(players_personal_info, players_career_stats, players_salaries):\n",
        "    pass"
      ]
    },
    {
      "cell_type": "code",
      "execution_count": null,
      "id": "388ceb75-3de2-4e28-a10a-d389d7617905",
      "metadata": {
        "id": "388ceb75-3de2-4e28-a10a-d389d7617905"
      },
      "outputs": [],
      "source": [
        "raw_players_dataset = merge_dataframes(players_personal_info, players_career_stats, players_salaries)\n",
        "raw_players_dataset.to_csv(\"raw_nba_players_dataset.csv\")"
      ]
    },
    {
      "cell_type": "markdown",
      "source": [
        "*Don't change anything in this cell, just make it run correctly*"
      ],
      "metadata": {
        "id": "9gzWHM9CkAlu"
      },
      "id": "9gzWHM9CkAlu"
    },
    {
      "cell_type": "code",
      "source": [
        "if raw_players_dataset.shape == (503, 17):\n",
        "    print('Success!')\n",
        "else:\n",
        "    raise ValueError('The shape is incorrect, please review your function')"
      ],
      "metadata": {
        "id": "x-4y5jGgj_ej"
      },
      "id": "x-4y5jGgj_ej",
      "execution_count": null,
      "outputs": []
    },
    {
      "cell_type": "markdown",
      "id": "b08b2775-dd82-415a-8a6e-46c51b8c3f2b",
      "metadata": {
        "id": "b08b2775-dd82-415a-8a6e-46c51b8c3f2b"
      },
      "source": [
        "##2. Data Cleaning and Preprocessing"
      ]
    },
    {
      "cell_type": "markdown",
      "id": "c52dd5c8-5536-4b0e-a51a-6d7ff4140c0b",
      "metadata": {
        "id": "c52dd5c8-5536-4b0e-a51a-6d7ff4140c0b"
      },
      "source": [
        "There are several steps that you will have to follow, depending on where you have collected the data some information might be missing.  \n",
        "\n",
        "- Height and weight might need to be converted to the metric system\n",
        "- Players that have no team assigned should be removed from the dataset\n",
        "- Players with no contracts (meaning they don't have a salary defined) should be removed from the dataset\n",
        "- If the \"position\" data is ambiguous (listed at multiple positions), use the first value\n",
        "- If the player does not have height or weight data, use the average for its position as its value"
      ]
    },
    {
      "cell_type": "markdown",
      "id": "af006585-e338-429a-a0ef-2598430f8b32",
      "metadata": {
        "id": "af006585-e338-429a-a0ef-2598430f8b32"
      },
      "source": [
        "2.1- Create a copy of your dataset named \"working_df\", remove all players with no teams or salary"
      ]
    },
    {
      "cell_type": "code",
      "execution_count": null,
      "id": "4327e4da-a3e0-4870-a7a4-abea76fb2205",
      "metadata": {
        "id": "4327e4da-a3e0-4870-a7a4-abea76fb2205"
      },
      "outputs": [],
      "source": [
        "### Complete in this cell: copy the dataset and drop NaNs in team or salary\n",
        "def copy_and_delete_nan(players_dataset):\n",
        "    pass"
      ]
    },
    {
      "cell_type": "code",
      "execution_count": null,
      "id": "93e2d191-dadd-481c-91fa-ff5aac1c824b",
      "metadata": {
        "id": "93e2d191-dadd-481c-91fa-ff5aac1c824b"
      },
      "outputs": [],
      "source": [
        "working_df = copy_and_delete_nan(raw_players_dataset)"
      ]
    },
    {
      "cell_type": "markdown",
      "source": [
        "*Don't change anything in this cell, just make it run correctly*"
      ],
      "metadata": {
        "id": "QXUldM_4mpfq"
      },
      "id": "QXUldM_4mpfq"
    },
    {
      "cell_type": "code",
      "source": [
        "if working_df.shape == (429, 17):\n",
        "    print('Success!')\n",
        "else:\n",
        "    raise ValueError('The shape is incorrect, please review your function')"
      ],
      "metadata": {
        "id": "F8avU7YxmqGY"
      },
      "id": "F8avU7YxmqGY",
      "execution_count": null,
      "outputs": []
    },
    {
      "cell_type": "markdown",
      "id": "9ccbdce4-cf4f-48e2-a597-49816f18a400",
      "metadata": {
        "id": "9ccbdce4-cf4f-48e2-a597-49816f18a400"
      },
      "source": [
        "2.2- Cast Salary and Birthday columns to its corresponding type (int, datetime)"
      ]
    },
    {
      "cell_type": "code",
      "execution_count": null,
      "id": "d3b4d50c-4677-4014-88cc-78f142811b8b",
      "metadata": {
        "id": "d3b4d50c-4677-4014-88cc-78f142811b8b"
      },
      "outputs": [],
      "source": [
        "### Complete in this cell: cast all columns to its type\n",
        "def cast_columns(working_df):\n",
        "    pass"
      ]
    },
    {
      "cell_type": "code",
      "execution_count": null,
      "id": "680875dc-2478-4213-b2f7-4a1da03ec71f",
      "metadata": {
        "id": "680875dc-2478-4213-b2f7-4a1da03ec71f"
      },
      "outputs": [],
      "source": [
        "cast_columns(working_df)"
      ]
    },
    {
      "cell_type": "markdown",
      "source": [
        "*Don't change anything in this cell, just make it run correctly*"
      ],
      "metadata": {
        "id": "ognZ7EzVnu2J"
      },
      "id": "ognZ7EzVnu2J"
    },
    {
      "cell_type": "code",
      "source": [
        "if working_df.SALARY.dtype == 'int64' and working_df.BIRTHDATE.dtype == '<M8[ns]':\n",
        "    print('Success!')\n",
        "else:\n",
        "    raise ValueError('The types are incorrect, please review your function')"
      ],
      "metadata": {
        "id": "qLJTtnxQnvTf"
      },
      "id": "qLJTtnxQnvTf",
      "execution_count": null,
      "outputs": []
    },
    {
      "cell_type": "markdown",
      "id": "f20f28d7-e6a1-4e6d-a51b-80ef8be06fd5",
      "metadata": {
        "id": "f20f28d7-e6a1-4e6d-a51b-80ef8be06fd5"
      },
      "source": [
        "2.3- Create a function that converts the height column from height in feet and inches to centimeters"
      ]
    },
    {
      "cell_type": "code",
      "execution_count": null,
      "id": "8d56db84-cb66-4ca5-8789-b8b6f7938a0b",
      "metadata": {
        "id": "8d56db84-cb66-4ca5-8789-b8b6f7938a0b"
      },
      "outputs": [],
      "source": [
        "### Complete in this cell: convert height column\n",
        "def convert_height_column(working_df):\n",
        "    pass"
      ]
    },
    {
      "cell_type": "code",
      "execution_count": null,
      "id": "a0d50bed-0dc9-4672-a446-f677b7282bb0",
      "metadata": {
        "id": "a0d50bed-0dc9-4672-a446-f677b7282bb0"
      },
      "outputs": [],
      "source": [
        "convert_height_column(working_df)"
      ]
    },
    {
      "cell_type": "markdown",
      "source": [
        "*Don't change anything in this cell, just make it run correctly*"
      ],
      "metadata": {
        "id": "01JY5A4lqmZP"
      },
      "id": "01JY5A4lqmZP"
    },
    {
      "cell_type": "code",
      "source": [
        "index_df_1 = working_df[working_df['PLAYER_NAME']=='Kyrie Irving'].index.values[0]\n",
        "index_df_2 = working_df[working_df['PLAYER_NAME']=='Luke Kennard'].index.values[0]\n",
        "\n",
        "if working_df.HEIGHT.loc[index_df_1] == 188 and working_df.HEIGHT.loc[index_df_2] == 196:\n",
        "    print('Success!')\n",
        "else:\n",
        "    raise ValueError('The values are incorrect, please review your function')"
      ],
      "metadata": {
        "id": "ThmJ0I74qmxm"
      },
      "id": "ThmJ0I74qmxm",
      "execution_count": null,
      "outputs": []
    },
    {
      "cell_type": "markdown",
      "id": "a611380e-47fe-4e81-8312-25876fb2025d",
      "metadata": {
        "id": "a611380e-47fe-4e81-8312-25876fb2025d"
      },
      "source": [
        "2.4- Create a function that converts the weight column from pounds to kilograms"
      ]
    },
    {
      "cell_type": "code",
      "execution_count": null,
      "id": "1532605a-d642-40c8-a15f-a8825b8276bd",
      "metadata": {
        "id": "1532605a-d642-40c8-a15f-a8825b8276bd"
      },
      "outputs": [],
      "source": [
        "### Complete in this cell: convert weight column\n",
        "def convert_weight_column(working_df):\n",
        "    pass"
      ]
    },
    {
      "cell_type": "code",
      "execution_count": null,
      "id": "34ea64a1-1269-48f1-a76a-492c9e9f8adb",
      "metadata": {
        "id": "34ea64a1-1269-48f1-a76a-492c9e9f8adb"
      },
      "outputs": [],
      "source": [
        "convert_weight_column(working_df)"
      ]
    },
    {
      "cell_type": "markdown",
      "source": [
        "*Don't change anything in this cell, just make it run correctly*"
      ],
      "metadata": {
        "id": "1BsDGhB6sLGn"
      },
      "id": "1BsDGhB6sLGn"
    },
    {
      "cell_type": "code",
      "source": [
        "if working_df.WEIGHT.loc[index_df_1] == 88 and working_df.WEIGHT.loc[index_df_2] == 93:\n",
        "    print('Success!')\n",
        "else:\n",
        "    raise ValueError('The values are incorrect, please review your function')"
      ],
      "metadata": {
        "id": "-eLuDOo8sLbJ"
      },
      "id": "-eLuDOo8sLbJ",
      "execution_count": null,
      "outputs": []
    },
    {
      "cell_type": "markdown",
      "id": "0d94c670-4e24-479a-aed1-c72a1082b452",
      "metadata": {
        "id": "0d94c670-4e24-479a-aed1-c72a1082b452"
      },
      "source": [
        "2.5- Create a function that calculates the age in (years, months, days) and saves it in a new string column named \"AGE\", example: \"22 years, 5 months, 25 days\" "
      ]
    },
    {
      "cell_type": "code",
      "execution_count": null,
      "id": "1f7ec1c5-2820-4660-8c93-1a2ad44e3bb0",
      "metadata": {
        "id": "1f7ec1c5-2820-4660-8c93-1a2ad44e3bb0"
      },
      "outputs": [],
      "source": [
        "### Complete in this cell: add age column\n",
        "def add_age_column(working_df):\n",
        "    pass"
      ]
    },
    {
      "cell_type": "code",
      "execution_count": null,
      "id": "7796ed0f-4711-442b-865e-d8b09be3e227",
      "metadata": {
        "id": "7796ed0f-4711-442b-865e-d8b09be3e227"
      },
      "outputs": [],
      "source": [
        "add_age_column(working_df)"
      ]
    },
    {
      "cell_type": "markdown",
      "id": "25b55463-d16e-4635-a951-caaeb5a6795b",
      "metadata": {
        "id": "25b55463-d16e-4635-a951-caaeb5a6795b"
      },
      "source": [
        "2.6- Create a function that takes care of the disambiguation of the \"POSITION\" column. Should replace all positions that are mixed with the first one listed."
      ]
    },
    {
      "cell_type": "code",
      "execution_count": null,
      "id": "b32acf08-6ffa-4dae-9cfb-8ff783b6ce5b",
      "metadata": {
        "id": "b32acf08-6ffa-4dae-9cfb-8ff783b6ce5b"
      },
      "outputs": [],
      "source": [
        "### Complete in this cell: disambiguation of the position column\n",
        "def update_position(working_df):\n",
        "    pass"
      ]
    },
    {
      "cell_type": "code",
      "execution_count": null,
      "id": "6bdc5317-86cd-48ad-96ca-945f8f493bef",
      "metadata": {
        "id": "6bdc5317-86cd-48ad-96ca-945f8f493bef"
      },
      "outputs": [],
      "source": [
        "update_position(working_df)"
      ]
    },
    {
      "cell_type": "markdown",
      "source": [
        "*Don't change anything in this cell, just make it run correctly*"
      ],
      "metadata": {
        "id": "cYmdlncI0Kzo"
      },
      "id": "cYmdlncI0Kzo"
    },
    {
      "cell_type": "code",
      "source": [
        "if working_df.POSITION.loc[index_df_1] == 'Guard' and working_df.POSITION.loc[index_df_2] == 'Guard':\n",
        "    print('Success!')\n",
        "else:\n",
        "    raise ValueError('The values are incorrect, please review your function')"
      ],
      "metadata": {
        "id": "60xXfNhC0Lh3"
      },
      "id": "60xXfNhC0Lh3",
      "execution_count": null,
      "outputs": []
    },
    {
      "cell_type": "markdown",
      "id": "0cad9445-eee0-4fdf-b745-a0aac7138c87",
      "metadata": {
        "id": "0cad9445-eee0-4fdf-b745-a0aac7138c87"
      },
      "source": [
        "2.7- Review that the working dataset has all requested columns with its corresponding datatypes and save it as a csv with name \"nba_players_processed_dataset.csv\""
      ]
    },
    {
      "cell_type": "code",
      "execution_count": null,
      "id": "7b423e20-c9f6-449a-8d8a-497bd464811d",
      "metadata": {
        "id": "7b423e20-c9f6-449a-8d8a-497bd464811d"
      },
      "outputs": [],
      "source": [
        "working_df.to_csv(\"nba_players_processed_dataset.csv\")"
      ]
    },
    {
      "cell_type": "markdown",
      "id": "6e794f61-3cc8-4899-a999-858a3cf0b959",
      "metadata": {
        "id": "6e794f61-3cc8-4899-a999-858a3cf0b959"
      },
      "source": [
        "##3. Analyzing and Visualizing data"
      ]
    },
    {
      "cell_type": "markdown",
      "id": "754b6690-e0c7-42ce-ac4a-45d000a5d9a8",
      "metadata": {
        "id": "754b6690-e0c7-42ce-ac4a-45d000a5d9a8"
      },
      "source": [
        "Now that we have the data, let's do some work"
      ]
    },
    {
      "cell_type": "markdown",
      "id": "b3f4a2fc-1f4f-4a18-ad43-fb125317395b",
      "metadata": {
        "id": "b3f4a2fc-1f4f-4a18-ad43-fb125317395b"
      },
      "source": [
        "3.1- Calculate and print the following metrics:\n",
        "\n",
        "    - General metrics:\n",
        "        - Total number of players\n",
        "        - Number of USA born players\n",
        "        - Number of foreign players\n",
        "        - Number of players per position\n",
        "        - Number of players per team\n",
        "        - Number of rookies (first year players)\n",
        "    - Players description\n",
        "        - Average player age (in years)\n",
        "        - Youngest player age (as a string, like: \"22 years, 5 months, 25 days\")\n",
        "        - Oldest player age (as a string, like: \"40 years, 2 months, 3 days\")\n",
        "        - Min and Max players height\n",
        "        - Average height of players per position\n",
        "    - Contracts\n",
        "        - Min and Max salary of all players\n",
        "        - Mean and Median salary of all players\n",
        "\n",
        "Bonus: if you can, calculate how many players retired between the end of the 2020-2021 season and the start of the 2021-22 season."
      ]
    },
    {
      "cell_type": "code",
      "execution_count": null,
      "id": "b5f62de4-8ddb-4377-a87c-a3cc655b6321",
      "metadata": {
        "id": "b5f62de4-8ddb-4377-a87c-a3cc655b6321"
      },
      "outputs": [],
      "source": [
        "### Complete in this cell: print general metrics\n"
      ]
    },
    {
      "cell_type": "code",
      "execution_count": null,
      "id": "660fe44e-b928-4097-999a-2b8f269fa32d",
      "metadata": {
        "id": "660fe44e-b928-4097-999a-2b8f269fa32d"
      },
      "outputs": [],
      "source": [
        "### Complete in this cell: print players descriptions\n",
        "    "
      ]
    },
    {
      "cell_type": "code",
      "execution_count": null,
      "id": "42c6c5e5-e800-479b-b575-12a578e53400",
      "metadata": {
        "id": "42c6c5e5-e800-479b-b575-12a578e53400"
      },
      "outputs": [],
      "source": [
        "### Complete in this cell: Contracts\n"
      ]
    },
    {
      "cell_type": "markdown",
      "id": "3a146e0c-ce0d-4e0c-971e-5b21e13fa077",
      "metadata": {
        "id": "3a146e0c-ce0d-4e0c-971e-5b21e13fa077"
      },
      "source": [
        "3.2- Plot the relationship between scoring (points per game) and salary of all players, the players positions should also be visible."
      ]
    },
    {
      "cell_type": "code",
      "execution_count": null,
      "id": "da36f3c1-0e69-47fd-a39c-67ce53f72851",
      "metadata": {
        "id": "da36f3c1-0e69-47fd-a39c-67ce53f72851"
      },
      "outputs": [],
      "source": [
        "### Complete in this cell:  Relationship between scoring and salary (in millions of dollars)\n"
      ]
    },
    {
      "cell_type": "markdown",
      "id": "0e188438-5ea0-4299-9597-3e038661710f",
      "metadata": {
        "id": "0e188438-5ea0-4299-9597-3e038661710f"
      },
      "source": [
        "3.3- Now plot assists-vs-salary and rebounding-vs-salary"
      ]
    },
    {
      "cell_type": "code",
      "execution_count": null,
      "id": "47fe0a50-996c-46a3-bd3c-f3863d4bc176",
      "metadata": {
        "id": "47fe0a50-996c-46a3-bd3c-f3863d4bc176"
      },
      "outputs": [],
      "source": [
        "### Complete in this cell: plot assist-vs-salary, rebounding-vs-salary\n"
      ]
    },
    {
      "cell_type": "markdown",
      "id": "6d33d74b-dbc1-4d7d-93ab-72d0f12de486",
      "metadata": {
        "id": "6d33d74b-dbc1-4d7d-93ab-72d0f12de486"
      },
      "source": [
        "3.4- When NBA players enter the league, they have low value salaries during what is called their \"rookie contract\". This means that it doesn't matter how well the player performs, they can't have large salaries. This can distort our understanding of how much teams value each skill, as a player could score 50 points a game and still earn just a couple of millions. So, lets now plot points, assists and rebounding vs salary, but only for players that have more than 4 years of experience (the typical length of a rookie contract)"
      ]
    },
    {
      "cell_type": "code",
      "execution_count": null,
      "id": "761750a3-0349-4e3e-ad56-cbb829117565",
      "metadata": {
        "id": "761750a3-0349-4e3e-ad56-cbb829117565"
      },
      "outputs": [],
      "source": [
        "### Complete in this cell: non rookie contracts\n"
      ]
    },
    {
      "cell_type": "markdown",
      "id": "e52dcf3d-a009-47c4-b4a3-a5cb94e66b2e",
      "metadata": {
        "id": "e52dcf3d-a009-47c4-b4a3-a5cb94e66b2e"
      },
      "source": [
        "3.5- Plot the scoring average grouped by position, we want to be able to see median, quartiles, etc "
      ]
    },
    {
      "cell_type": "code",
      "execution_count": null,
      "id": "e85a80b1-1e1c-4b97-881b-41caa3473436",
      "metadata": {
        "id": "e85a80b1-1e1c-4b97-881b-41caa3473436"
      },
      "outputs": [],
      "source": [
        "### Complete in this cell: Scoring average grouped by position\n"
      ]
    },
    {
      "cell_type": "markdown",
      "id": "2a669e88-8555-4e7c-aab7-83d3683dd26e",
      "metadata": {
        "id": "2a669e88-8555-4e7c-aab7-83d3683dd26e"
      },
      "source": [
        "3.6- Plot the Height distribution of all players"
      ]
    },
    {
      "cell_type": "code",
      "execution_count": null,
      "id": "648e15f1-d120-413e-b244-15c88fdc914f",
      "metadata": {
        "id": "648e15f1-d120-413e-b244-15c88fdc914f"
      },
      "outputs": [],
      "source": [
        "### Complete in this cell: height distribution\n"
      ]
    },
    {
      "cell_type": "markdown",
      "id": "42f87010-5100-4331-907b-8b602226fbb2",
      "metadata": {
        "id": "42f87010-5100-4331-907b-8b602226fbb2"
      },
      "source": [
        "OPTIONAL: Can you find a way to draw a world map and show how many active players per country the NBA has? [Example](https://i.redd.it/8qymui9fnin71.jpg)"
      ]
    },
    {
      "cell_type": "code",
      "source": [],
      "metadata": {
        "id": "MKj0O8xAl460"
      },
      "id": "MKj0O8xAl460",
      "execution_count": null,
      "outputs": []
    }
  ],
  "metadata": {
    "kernelspec": {
      "display_name": "Python 3 (ipykernel)",
      "language": "python",
      "name": "python3"
    },
    "language_info": {
      "codemirror_mode": {
        "name": "ipython",
        "version": 3
      },
      "file_extension": ".py",
      "mimetype": "text/x-python",
      "name": "python",
      "nbconvert_exporter": "python",
      "pygments_lexer": "ipython3",
      "version": "3.9.7"
    },
    "colab": {
      "provenance": [],
      "include_colab_link": true
    }
  },
  "nbformat": 4,
  "nbformat_minor": 5
}